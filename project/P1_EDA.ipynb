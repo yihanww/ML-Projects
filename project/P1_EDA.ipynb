{
 "cells": [
  {
   "cell_type": "markdown",
   "id": "a69890b1",
   "metadata": {},
   "source": [
    "### Project Exploratory data analysis \n",
    "\n",
    "- **Part-1: Data overview**\n",
    "    > check the #samples, #attributes <br>\n",
    "    > attribute types <br>\n",
    "    \n",
    "- **Part-2: Data cleaning**\n",
    "    > organize attributes into appripriate data types (e.g., numerical, categorical, datatime, text, image, ...) <br>\n",
    "    > missing value and outlier detection <br>\n",
    "    \n",
    "- **Part-3: Data transformation**\n",
    "    > normalize numerical data <br>\n",
    "    \n",
    "- **Part-4: Feature engineering**\n",
    "    > directly use numerical data\n",
    "\n",
    "- **Part-5: Additional analysis**\n",
    "    > colinearty check <br>"
   ]
  },
  {
   "cell_type": "markdown",
   "id": "b08ce13c",
   "metadata": {},
   "source": [
    "### Dataset shared link\n",
    "- https://github.com/jcpeterson/omi/blob/main/attribute_means.csv\n",
    "- https://github.com/yihanww/MACS30100/blob/main/project/dlatents.npy"
   ]
  },
  {
   "cell_type": "code",
   "execution_count": 1,
   "id": "692bd036",
   "metadata": {},
   "outputs": [],
   "source": [
    "import numpy as np\n",
    "import pandas as pd\n",
    "import matplotlib.pyplot as plt\n",
    "import seaborn as sns"
   ]
  },
  {
   "cell_type": "markdown",
   "id": "0af5ac4f",
   "metadata": {},
   "source": [
    "### Data overview"
   ]
  },
  {
   "cell_type": "code",
   "execution_count": 2,
   "id": "6ae08ebe",
   "metadata": {},
   "outputs": [],
   "source": [
    "# read features data from file to a pandas dataframe\n",
    "features_df = pd.read_csv('./attribute_means.csv') "
   ]
  },
  {
   "cell_type": "code",
   "execution_count": 4,
   "id": "37deb6bc",
   "metadata": {},
   "outputs": [],
   "source": [
    "# read actual weight data from file to a pandas dataframe\n",
    "weight = np.load(\"/Users/han/Desktop/latents/dlatents.npy\")"
   ]
  },
  {
   "cell_type": "code",
   "execution_count": 5,
   "id": "b787489f",
   "metadata": {},
   "outputs": [
    {
     "data": {
      "text/plain": [
       "(1004, 35)"
      ]
     },
     "execution_count": 5,
     "metadata": {},
     "output_type": "execute_result"
    }
   ],
   "source": [
    "# check the shape of the data frame: row: #samples (short for number of samples), column: #attributes (short for number of attributes)\n",
    "features_df.shape"
   ]
  },
  {
   "cell_type": "code",
   "execution_count": 6,
   "id": "3c2617ca",
   "metadata": {},
   "outputs": [
    {
     "data": {
      "text/html": [
       "<div>\n",
       "<style scoped>\n",
       "    .dataframe tbody tr th:only-of-type {\n",
       "        vertical-align: middle;\n",
       "    }\n",
       "\n",
       "    .dataframe tbody tr th {\n",
       "        vertical-align: top;\n",
       "    }\n",
       "\n",
       "    .dataframe thead th {\n",
       "        text-align: right;\n",
       "    }\n",
       "</style>\n",
       "<table border=\"1\" class=\"dataframe\">\n",
       "  <thead>\n",
       "    <tr style=\"text-align: right;\">\n",
       "      <th></th>\n",
       "      <th>stimulus</th>\n",
       "      <th>trustworthy</th>\n",
       "      <th>attractive</th>\n",
       "      <th>dominant</th>\n",
       "      <th>smart</th>\n",
       "      <th>age</th>\n",
       "      <th>gender</th>\n",
       "      <th>weight</th>\n",
       "      <th>typical</th>\n",
       "      <th>happy</th>\n",
       "      <th>...</th>\n",
       "      <th>hispanic</th>\n",
       "      <th>islander</th>\n",
       "      <th>native</th>\n",
       "      <th>black</th>\n",
       "      <th>white</th>\n",
       "      <th>looks-like-you</th>\n",
       "      <th>gay</th>\n",
       "      <th>electable</th>\n",
       "      <th>godly</th>\n",
       "      <th>outdoors</th>\n",
       "    </tr>\n",
       "  </thead>\n",
       "  <tbody>\n",
       "    <tr>\n",
       "      <th>0</th>\n",
       "      <td>1</td>\n",
       "      <td>43.673077</td>\n",
       "      <td>46.552632</td>\n",
       "      <td>79.771429</td>\n",
       "      <td>55.405405</td>\n",
       "      <td>50.404255</td>\n",
       "      <td>86.891892</td>\n",
       "      <td>38.119048</td>\n",
       "      <td>66.736842</td>\n",
       "      <td>18.970588</td>\n",
       "      <td>...</td>\n",
       "      <td>18.828571</td>\n",
       "      <td>12.470588</td>\n",
       "      <td>13.925926</td>\n",
       "      <td>5.105263</td>\n",
       "      <td>92.970588</td>\n",
       "      <td>31.428571</td>\n",
       "      <td>20.523810</td>\n",
       "      <td>61.486486</td>\n",
       "      <td>53.439024</td>\n",
       "      <td>83.925000</td>\n",
       "    </tr>\n",
       "    <tr>\n",
       "      <th>1</th>\n",
       "      <td>2</td>\n",
       "      <td>65.000000</td>\n",
       "      <td>59.750000</td>\n",
       "      <td>48.666667</td>\n",
       "      <td>57.891892</td>\n",
       "      <td>31.300000</td>\n",
       "      <td>12.560976</td>\n",
       "      <td>48.275000</td>\n",
       "      <td>49.209302</td>\n",
       "      <td>75.771429</td>\n",
       "      <td>...</td>\n",
       "      <td>70.325000</td>\n",
       "      <td>63.236842</td>\n",
       "      <td>54.564516</td>\n",
       "      <td>72.735294</td>\n",
       "      <td>4.880952</td>\n",
       "      <td>13.465116</td>\n",
       "      <td>31.414634</td>\n",
       "      <td>66.184211</td>\n",
       "      <td>62.809524</td>\n",
       "      <td>57.513514</td>\n",
       "    </tr>\n",
       "    <tr>\n",
       "      <th>2</th>\n",
       "      <td>3</td>\n",
       "      <td>37.010526</td>\n",
       "      <td>36.000000</td>\n",
       "      <td>65.428571</td>\n",
       "      <td>65.057143</td>\n",
       "      <td>51.745098</td>\n",
       "      <td>74.789474</td>\n",
       "      <td>44.790698</td>\n",
       "      <td>48.666667</td>\n",
       "      <td>23.135135</td>\n",
       "      <td>...</td>\n",
       "      <td>44.375000</td>\n",
       "      <td>27.108108</td>\n",
       "      <td>33.898305</td>\n",
       "      <td>3.972222</td>\n",
       "      <td>68.787879</td>\n",
       "      <td>18.363636</td>\n",
       "      <td>46.024390</td>\n",
       "      <td>70.804878</td>\n",
       "      <td>55.921053</td>\n",
       "      <td>11.292683</td>\n",
       "    </tr>\n",
       "    <tr>\n",
       "      <th>3</th>\n",
       "      <td>4</td>\n",
       "      <td>64.053191</td>\n",
       "      <td>65.500000</td>\n",
       "      <td>47.194444</td>\n",
       "      <td>54.700000</td>\n",
       "      <td>24.777778</td>\n",
       "      <td>9.526316</td>\n",
       "      <td>32.375000</td>\n",
       "      <td>44.024390</td>\n",
       "      <td>59.526316</td>\n",
       "      <td>...</td>\n",
       "      <td>61.666667</td>\n",
       "      <td>60.352941</td>\n",
       "      <td>49.824561</td>\n",
       "      <td>72.552632</td>\n",
       "      <td>3.315789</td>\n",
       "      <td>10.500000</td>\n",
       "      <td>20.365854</td>\n",
       "      <td>57.179487</td>\n",
       "      <td>62.051282</td>\n",
       "      <td>16.560976</td>\n",
       "    </tr>\n",
       "    <tr>\n",
       "      <th>4</th>\n",
       "      <td>5</td>\n",
       "      <td>69.577320</td>\n",
       "      <td>50.702703</td>\n",
       "      <td>56.257143</td>\n",
       "      <td>61.527778</td>\n",
       "      <td>44.534884</td>\n",
       "      <td>14.650000</td>\n",
       "      <td>40.250000</td>\n",
       "      <td>70.184211</td>\n",
       "      <td>82.600000</td>\n",
       "      <td>...</td>\n",
       "      <td>14.162162</td>\n",
       "      <td>15.121212</td>\n",
       "      <td>10.910714</td>\n",
       "      <td>3.702703</td>\n",
       "      <td>88.842105</td>\n",
       "      <td>19.000000</td>\n",
       "      <td>21.783784</td>\n",
       "      <td>70.888889</td>\n",
       "      <td>71.833333</td>\n",
       "      <td>20.777778</td>\n",
       "    </tr>\n",
       "  </tbody>\n",
       "</table>\n",
       "<p>5 rows × 35 columns</p>\n",
       "</div>"
      ],
      "text/plain": [
       "   stimulus  trustworthy  attractive   dominant      smart        age  \\\n",
       "0         1    43.673077   46.552632  79.771429  55.405405  50.404255   \n",
       "1         2    65.000000   59.750000  48.666667  57.891892  31.300000   \n",
       "2         3    37.010526   36.000000  65.428571  65.057143  51.745098   \n",
       "3         4    64.053191   65.500000  47.194444  54.700000  24.777778   \n",
       "4         5    69.577320   50.702703  56.257143  61.527778  44.534884   \n",
       "\n",
       "      gender     weight    typical      happy  ...   hispanic   islander  \\\n",
       "0  86.891892  38.119048  66.736842  18.970588  ...  18.828571  12.470588   \n",
       "1  12.560976  48.275000  49.209302  75.771429  ...  70.325000  63.236842   \n",
       "2  74.789474  44.790698  48.666667  23.135135  ...  44.375000  27.108108   \n",
       "3   9.526316  32.375000  44.024390  59.526316  ...  61.666667  60.352941   \n",
       "4  14.650000  40.250000  70.184211  82.600000  ...  14.162162  15.121212   \n",
       "\n",
       "      native      black      white  looks-like-you        gay  electable  \\\n",
       "0  13.925926   5.105263  92.970588       31.428571  20.523810  61.486486   \n",
       "1  54.564516  72.735294   4.880952       13.465116  31.414634  66.184211   \n",
       "2  33.898305   3.972222  68.787879       18.363636  46.024390  70.804878   \n",
       "3  49.824561  72.552632   3.315789       10.500000  20.365854  57.179487   \n",
       "4  10.910714   3.702703  88.842105       19.000000  21.783784  70.888889   \n",
       "\n",
       "       godly   outdoors  \n",
       "0  53.439024  83.925000  \n",
       "1  62.809524  57.513514  \n",
       "2  55.921053  11.292683  \n",
       "3  62.051282  16.560976  \n",
       "4  71.833333  20.777778  \n",
       "\n",
       "[5 rows x 35 columns]"
      ]
     },
     "execution_count": 6,
     "metadata": {},
     "output_type": "execute_result"
    }
   ],
   "source": [
    "# get an overview of the top-n rows/samples\n",
    "features_df.head()"
   ]
  },
  {
   "cell_type": "code",
   "execution_count": 7,
   "id": "9c852ea9",
   "metadata": {},
   "outputs": [
    {
     "data": {
      "text/plain": [
       "(3039, 512)"
      ]
     },
     "execution_count": 7,
     "metadata": {},
     "output_type": "execute_result"
    }
   ],
   "source": [
    "# check the shape of the data frame: row: #samples (short for number of samples), column: #attributes (short for number of attributes)\n",
    "weight.shape"
   ]
  },
  {
   "cell_type": "code",
   "execution_count": 8,
   "id": "d162df1b",
   "metadata": {},
   "outputs": [
    {
     "data": {
      "text/plain": [
       "array([[ 0.01608254, -0.20062245, -0.29112384, ..., -0.17773119,\n",
       "        -0.06716575, -0.07059635],\n",
       "       [-0.00166759, -0.02775493, -0.18739995, ..., -0.20235142,\n",
       "        -0.09695578, -0.34975681],\n",
       "       [-0.20952941,  0.01885662,  0.61291254, ...,  0.53577298,\n",
       "         0.41925639,  0.91552621],\n",
       "       ...,\n",
       "       [-0.03168365, -0.01862339, -0.02364639, ..., -0.14452291,\n",
       "        -0.08473014,  0.2162483 ],\n",
       "       [ 0.1840674 ,  0.28043327, -0.20540014, ..., -0.08562395,\n",
       "        -0.17729175, -0.00313852],\n",
       "       [-0.02309644,  0.17632581, -0.09819295, ..., -0.31139478,\n",
       "        -0.15932131, -0.2066813 ]])"
      ]
     },
     "execution_count": 8,
     "metadata": {},
     "output_type": "execute_result"
    }
   ],
   "source": [
    "# I only need the first 1004 rows because the features are rated based on these 1004 stimuli\n",
    "weight = weight[:1004]\n",
    "weight"
   ]
  },
  {
   "cell_type": "markdown",
   "id": "b82d9c08",
   "metadata": {},
   "source": [
    "### Data cleaning"
   ]
  },
  {
   "cell_type": "markdown",
   "id": "c25cd609",
   "metadata": {},
   "source": [
    "#### check missing values"
   ]
  },
  {
   "cell_type": "code",
   "execution_count": 9,
   "id": "c2ef5ca0",
   "metadata": {},
   "outputs": [
    {
     "data": {
      "text/plain": [
       "stimulus          0\n",
       "trustworthy       0\n",
       "attractive        0\n",
       "dominant          0\n",
       "smart             0\n",
       "age               0\n",
       "gender            0\n",
       "weight            0\n",
       "typical           0\n",
       "happy             0\n",
       "familiar          0\n",
       "outgoing          0\n",
       "memorable         0\n",
       "well-groomed      0\n",
       "long-haired       0\n",
       "smug              0\n",
       "dorky             0\n",
       "skin-color        0\n",
       "hair-color        0\n",
       "alert             0\n",
       "cute              0\n",
       "privileged        0\n",
       "liberal           0\n",
       "asian             0\n",
       "middle-eastern    0\n",
       "hispanic          0\n",
       "islander          0\n",
       "native            0\n",
       "black             0\n",
       "white             0\n",
       "looks-like-you    0\n",
       "gay               0\n",
       "electable         0\n",
       "godly             0\n",
       "outdoors          0\n",
       "dtype: int64"
      ]
     },
     "execution_count": 9,
     "metadata": {},
     "output_type": "execute_result"
    }
   ],
   "source": [
    "null_sum = features_df.isnull().sum()\n",
    "null_sum"
   ]
  },
  {
   "cell_type": "markdown",
   "id": "fa0f0bef",
   "metadata": {},
   "source": [
    "No missing values need to be dropped."
   ]
  },
  {
   "cell_type": "markdown",
   "id": "4e14334f",
   "metadata": {},
   "source": [
    "#### organize columns into different data types\n",
    "The .dtype attribute shows that the current data type for all columns are \"int64\", I don't have to convert the columns into different data types.   "
   ]
  },
  {
   "cell_type": "markdown",
   "id": "dc9388c6",
   "metadata": {},
   "source": [
    "#### process numerical data"
   ]
  },
  {
   "cell_type": "code",
   "execution_count": 10,
   "id": "e40adf41",
   "metadata": {},
   "outputs": [
    {
     "name": "stdout",
     "output_type": "stream",
     "text": [
      "Index(['stimulus', 'trustworthy', 'attractive', 'dominant', 'smart', 'age',\n",
      "       'gender', 'weight', 'typical', 'happy', 'familiar', 'outgoing',\n",
      "       'memorable', 'well-groomed', 'long-haired', 'smug', 'dorky',\n",
      "       'skin-color', 'hair-color', 'alert', 'cute', 'privileged', 'liberal',\n",
      "       'asian', 'middle-eastern', 'hispanic', 'islander', 'native', 'black',\n",
      "       'white', 'looks-like-you', 'gay', 'electable', 'godly', 'outdoors'],\n",
      "      dtype='object')\n",
      "['stimulus', 'trustworthy', 'attractive', 'dominant', 'smart', 'age', 'gender', 'weight', 'typical', 'happy', 'familiar', 'outgoing', 'memorable', 'well-groomed', 'long-haired', 'smug', 'dorky', 'skin-color', 'hair-color', 'alert', 'cute', 'privileged', 'liberal', 'asian', 'middle-eastern', 'hispanic', 'islander', 'native', 'black', 'white', 'looks-like-you', 'gay', 'electable', 'godly', 'outdoors']\n"
     ]
    }
   ],
   "source": [
    "# get the column names\n",
    "column_names = features_df.columns\n",
    "column_names_list = features_df.columns.tolist()\n",
    "\n",
    "# print the column names\n",
    "print(column_names)\n",
    "print(column_names_list)"
   ]
  },
  {
   "cell_type": "code",
   "execution_count": 11,
   "id": "86a72366",
   "metadata": {},
   "outputs": [],
   "source": [
    "num_col = ['stimulus', 'trustworthy', 'attractive', 'dominant', 'smart', 'age',\n",
    "       'gender', 'weight', 'typical', 'happy', 'familiar', 'outgoing',\n",
    "       'memorable', 'well-groomed', 'long-haired', 'smug', 'dorky',\n",
    "       'skin-color', 'hair-color', 'alert', 'cute', 'privileged', 'liberal',\n",
    "       'asian', 'middle-eastern', 'hispanic', 'islander', 'native', 'black',\n",
    "       'white', 'looks-like-you', 'gay', 'electable', 'godly', 'outdoors']"
   ]
  },
  {
   "cell_type": "markdown",
   "id": "e4fed403",
   "metadata": {},
   "source": [
    "Convert the numerical columns to the \"float\" data type "
   ]
  },
  {
   "cell_type": "code",
   "execution_count": 12,
   "id": "a42f9ede",
   "metadata": {},
   "outputs": [
    {
     "data": {
      "text/html": [
       "<div>\n",
       "<style scoped>\n",
       "    .dataframe tbody tr th:only-of-type {\n",
       "        vertical-align: middle;\n",
       "    }\n",
       "\n",
       "    .dataframe tbody tr th {\n",
       "        vertical-align: top;\n",
       "    }\n",
       "\n",
       "    .dataframe thead th {\n",
       "        text-align: right;\n",
       "    }\n",
       "</style>\n",
       "<table border=\"1\" class=\"dataframe\">\n",
       "  <thead>\n",
       "    <tr style=\"text-align: right;\">\n",
       "      <th></th>\n",
       "      <th>stimulus</th>\n",
       "      <th>trustworthy</th>\n",
       "      <th>attractive</th>\n",
       "      <th>dominant</th>\n",
       "      <th>smart</th>\n",
       "      <th>age</th>\n",
       "      <th>gender</th>\n",
       "      <th>weight</th>\n",
       "      <th>typical</th>\n",
       "      <th>happy</th>\n",
       "      <th>...</th>\n",
       "      <th>hispanic</th>\n",
       "      <th>islander</th>\n",
       "      <th>native</th>\n",
       "      <th>black</th>\n",
       "      <th>white</th>\n",
       "      <th>looks-like-you</th>\n",
       "      <th>gay</th>\n",
       "      <th>electable</th>\n",
       "      <th>godly</th>\n",
       "      <th>outdoors</th>\n",
       "    </tr>\n",
       "  </thead>\n",
       "  <tbody>\n",
       "    <tr>\n",
       "      <th>0</th>\n",
       "      <td>1.0</td>\n",
       "      <td>43.673077</td>\n",
       "      <td>46.552632</td>\n",
       "      <td>79.771429</td>\n",
       "      <td>55.405405</td>\n",
       "      <td>50.404255</td>\n",
       "      <td>86.891892</td>\n",
       "      <td>38.119048</td>\n",
       "      <td>66.736842</td>\n",
       "      <td>18.970588</td>\n",
       "      <td>...</td>\n",
       "      <td>18.828571</td>\n",
       "      <td>12.470588</td>\n",
       "      <td>13.925926</td>\n",
       "      <td>5.105263</td>\n",
       "      <td>92.970588</td>\n",
       "      <td>31.428571</td>\n",
       "      <td>20.523810</td>\n",
       "      <td>61.486486</td>\n",
       "      <td>53.439024</td>\n",
       "      <td>83.925000</td>\n",
       "    </tr>\n",
       "    <tr>\n",
       "      <th>1</th>\n",
       "      <td>2.0</td>\n",
       "      <td>65.000000</td>\n",
       "      <td>59.750000</td>\n",
       "      <td>48.666667</td>\n",
       "      <td>57.891892</td>\n",
       "      <td>31.300000</td>\n",
       "      <td>12.560976</td>\n",
       "      <td>48.275000</td>\n",
       "      <td>49.209302</td>\n",
       "      <td>75.771429</td>\n",
       "      <td>...</td>\n",
       "      <td>70.325000</td>\n",
       "      <td>63.236842</td>\n",
       "      <td>54.564516</td>\n",
       "      <td>72.735294</td>\n",
       "      <td>4.880952</td>\n",
       "      <td>13.465116</td>\n",
       "      <td>31.414634</td>\n",
       "      <td>66.184211</td>\n",
       "      <td>62.809524</td>\n",
       "      <td>57.513514</td>\n",
       "    </tr>\n",
       "    <tr>\n",
       "      <th>2</th>\n",
       "      <td>3.0</td>\n",
       "      <td>37.010526</td>\n",
       "      <td>36.000000</td>\n",
       "      <td>65.428571</td>\n",
       "      <td>65.057143</td>\n",
       "      <td>51.745098</td>\n",
       "      <td>74.789474</td>\n",
       "      <td>44.790698</td>\n",
       "      <td>48.666667</td>\n",
       "      <td>23.135135</td>\n",
       "      <td>...</td>\n",
       "      <td>44.375000</td>\n",
       "      <td>27.108108</td>\n",
       "      <td>33.898305</td>\n",
       "      <td>3.972222</td>\n",
       "      <td>68.787879</td>\n",
       "      <td>18.363636</td>\n",
       "      <td>46.024390</td>\n",
       "      <td>70.804878</td>\n",
       "      <td>55.921053</td>\n",
       "      <td>11.292683</td>\n",
       "    </tr>\n",
       "    <tr>\n",
       "      <th>3</th>\n",
       "      <td>4.0</td>\n",
       "      <td>64.053191</td>\n",
       "      <td>65.500000</td>\n",
       "      <td>47.194444</td>\n",
       "      <td>54.700000</td>\n",
       "      <td>24.777778</td>\n",
       "      <td>9.526316</td>\n",
       "      <td>32.375000</td>\n",
       "      <td>44.024390</td>\n",
       "      <td>59.526316</td>\n",
       "      <td>...</td>\n",
       "      <td>61.666667</td>\n",
       "      <td>60.352941</td>\n",
       "      <td>49.824561</td>\n",
       "      <td>72.552632</td>\n",
       "      <td>3.315789</td>\n",
       "      <td>10.500000</td>\n",
       "      <td>20.365854</td>\n",
       "      <td>57.179487</td>\n",
       "      <td>62.051282</td>\n",
       "      <td>16.560976</td>\n",
       "    </tr>\n",
       "    <tr>\n",
       "      <th>4</th>\n",
       "      <td>5.0</td>\n",
       "      <td>69.577320</td>\n",
       "      <td>50.702703</td>\n",
       "      <td>56.257143</td>\n",
       "      <td>61.527778</td>\n",
       "      <td>44.534884</td>\n",
       "      <td>14.650000</td>\n",
       "      <td>40.250000</td>\n",
       "      <td>70.184211</td>\n",
       "      <td>82.600000</td>\n",
       "      <td>...</td>\n",
       "      <td>14.162162</td>\n",
       "      <td>15.121212</td>\n",
       "      <td>10.910714</td>\n",
       "      <td>3.702703</td>\n",
       "      <td>88.842105</td>\n",
       "      <td>19.000000</td>\n",
       "      <td>21.783784</td>\n",
       "      <td>70.888889</td>\n",
       "      <td>71.833333</td>\n",
       "      <td>20.777778</td>\n",
       "    </tr>\n",
       "    <tr>\n",
       "      <th>...</th>\n",
       "      <td>...</td>\n",
       "      <td>...</td>\n",
       "      <td>...</td>\n",
       "      <td>...</td>\n",
       "      <td>...</td>\n",
       "      <td>...</td>\n",
       "      <td>...</td>\n",
       "      <td>...</td>\n",
       "      <td>...</td>\n",
       "      <td>...</td>\n",
       "      <td>...</td>\n",
       "      <td>...</td>\n",
       "      <td>...</td>\n",
       "      <td>...</td>\n",
       "      <td>...</td>\n",
       "      <td>...</td>\n",
       "      <td>...</td>\n",
       "      <td>...</td>\n",
       "      <td>...</td>\n",
       "      <td>...</td>\n",
       "      <td>...</td>\n",
       "    </tr>\n",
       "    <tr>\n",
       "      <th>999</th>\n",
       "      <td>1000.0</td>\n",
       "      <td>51.678161</td>\n",
       "      <td>45.970588</td>\n",
       "      <td>59.171429</td>\n",
       "      <td>51.925000</td>\n",
       "      <td>40.142857</td>\n",
       "      <td>86.257143</td>\n",
       "      <td>53.235294</td>\n",
       "      <td>73.714286</td>\n",
       "      <td>53.647059</td>\n",
       "      <td>...</td>\n",
       "      <td>44.146341</td>\n",
       "      <td>15.228571</td>\n",
       "      <td>19.256410</td>\n",
       "      <td>6.647059</td>\n",
       "      <td>81.857143</td>\n",
       "      <td>26.371429</td>\n",
       "      <td>29.055556</td>\n",
       "      <td>57.975000</td>\n",
       "      <td>60.757576</td>\n",
       "      <td>14.923077</td>\n",
       "    </tr>\n",
       "    <tr>\n",
       "      <th>1000</th>\n",
       "      <td>1001.0</td>\n",
       "      <td>76.918605</td>\n",
       "      <td>66.928571</td>\n",
       "      <td>37.105263</td>\n",
       "      <td>53.864865</td>\n",
       "      <td>16.294118</td>\n",
       "      <td>11.200000</td>\n",
       "      <td>44.138889</td>\n",
       "      <td>57.228571</td>\n",
       "      <td>76.714286</td>\n",
       "      <td>...</td>\n",
       "      <td>51.600000</td>\n",
       "      <td>57.738095</td>\n",
       "      <td>45.717949</td>\n",
       "      <td>10.289474</td>\n",
       "      <td>58.500000</td>\n",
       "      <td>23.085714</td>\n",
       "      <td>18.783784</td>\n",
       "      <td>27.243902</td>\n",
       "      <td>68.800000</td>\n",
       "      <td>87.636364</td>\n",
       "    </tr>\n",
       "    <tr>\n",
       "      <th>1001</th>\n",
       "      <td>1002.0</td>\n",
       "      <td>50.318182</td>\n",
       "      <td>44.902439</td>\n",
       "      <td>63.578947</td>\n",
       "      <td>64.736842</td>\n",
       "      <td>37.969697</td>\n",
       "      <td>82.297297</td>\n",
       "      <td>51.333333</td>\n",
       "      <td>52.891892</td>\n",
       "      <td>34.450000</td>\n",
       "      <td>...</td>\n",
       "      <td>58.121212</td>\n",
       "      <td>77.078947</td>\n",
       "      <td>60.200000</td>\n",
       "      <td>18.500000</td>\n",
       "      <td>13.351351</td>\n",
       "      <td>16.515152</td>\n",
       "      <td>24.378378</td>\n",
       "      <td>63.871795</td>\n",
       "      <td>49.900000</td>\n",
       "      <td>12.914286</td>\n",
       "    </tr>\n",
       "    <tr>\n",
       "      <th>1002</th>\n",
       "      <td>1003.0</td>\n",
       "      <td>55.551724</td>\n",
       "      <td>69.842105</td>\n",
       "      <td>54.625000</td>\n",
       "      <td>48.250000</td>\n",
       "      <td>26.029412</td>\n",
       "      <td>8.307692</td>\n",
       "      <td>41.358974</td>\n",
       "      <td>54.085714</td>\n",
       "      <td>41.538462</td>\n",
       "      <td>...</td>\n",
       "      <td>68.000000</td>\n",
       "      <td>51.944444</td>\n",
       "      <td>44.375000</td>\n",
       "      <td>11.685714</td>\n",
       "      <td>47.027027</td>\n",
       "      <td>22.230769</td>\n",
       "      <td>25.400000</td>\n",
       "      <td>56.852941</td>\n",
       "      <td>63.435897</td>\n",
       "      <td>17.714286</td>\n",
       "    </tr>\n",
       "    <tr>\n",
       "      <th>1003</th>\n",
       "      <td>1004.0</td>\n",
       "      <td>81.202381</td>\n",
       "      <td>53.184211</td>\n",
       "      <td>31.405405</td>\n",
       "      <td>38.315789</td>\n",
       "      <td>3.108108</td>\n",
       "      <td>31.526316</td>\n",
       "      <td>36.636364</td>\n",
       "      <td>64.552632</td>\n",
       "      <td>63.470588</td>\n",
       "      <td>...</td>\n",
       "      <td>39.970588</td>\n",
       "      <td>30.000000</td>\n",
       "      <td>35.285714</td>\n",
       "      <td>9.114286</td>\n",
       "      <td>68.631579</td>\n",
       "      <td>15.545455</td>\n",
       "      <td>10.657143</td>\n",
       "      <td>6.702703</td>\n",
       "      <td>61.756098</td>\n",
       "      <td>88.525000</td>\n",
       "    </tr>\n",
       "  </tbody>\n",
       "</table>\n",
       "<p>1004 rows × 35 columns</p>\n",
       "</div>"
      ],
      "text/plain": [
       "      stimulus  trustworthy  attractive   dominant      smart        age  \\\n",
       "0          1.0    43.673077   46.552632  79.771429  55.405405  50.404255   \n",
       "1          2.0    65.000000   59.750000  48.666667  57.891892  31.300000   \n",
       "2          3.0    37.010526   36.000000  65.428571  65.057143  51.745098   \n",
       "3          4.0    64.053191   65.500000  47.194444  54.700000  24.777778   \n",
       "4          5.0    69.577320   50.702703  56.257143  61.527778  44.534884   \n",
       "...        ...          ...         ...        ...        ...        ...   \n",
       "999     1000.0    51.678161   45.970588  59.171429  51.925000  40.142857   \n",
       "1000    1001.0    76.918605   66.928571  37.105263  53.864865  16.294118   \n",
       "1001    1002.0    50.318182   44.902439  63.578947  64.736842  37.969697   \n",
       "1002    1003.0    55.551724   69.842105  54.625000  48.250000  26.029412   \n",
       "1003    1004.0    81.202381   53.184211  31.405405  38.315789   3.108108   \n",
       "\n",
       "         gender     weight    typical      happy  ...   hispanic   islander  \\\n",
       "0     86.891892  38.119048  66.736842  18.970588  ...  18.828571  12.470588   \n",
       "1     12.560976  48.275000  49.209302  75.771429  ...  70.325000  63.236842   \n",
       "2     74.789474  44.790698  48.666667  23.135135  ...  44.375000  27.108108   \n",
       "3      9.526316  32.375000  44.024390  59.526316  ...  61.666667  60.352941   \n",
       "4     14.650000  40.250000  70.184211  82.600000  ...  14.162162  15.121212   \n",
       "...         ...        ...        ...        ...  ...        ...        ...   \n",
       "999   86.257143  53.235294  73.714286  53.647059  ...  44.146341  15.228571   \n",
       "1000  11.200000  44.138889  57.228571  76.714286  ...  51.600000  57.738095   \n",
       "1001  82.297297  51.333333  52.891892  34.450000  ...  58.121212  77.078947   \n",
       "1002   8.307692  41.358974  54.085714  41.538462  ...  68.000000  51.944444   \n",
       "1003  31.526316  36.636364  64.552632  63.470588  ...  39.970588  30.000000   \n",
       "\n",
       "         native      black      white  looks-like-you        gay  electable  \\\n",
       "0     13.925926   5.105263  92.970588       31.428571  20.523810  61.486486   \n",
       "1     54.564516  72.735294   4.880952       13.465116  31.414634  66.184211   \n",
       "2     33.898305   3.972222  68.787879       18.363636  46.024390  70.804878   \n",
       "3     49.824561  72.552632   3.315789       10.500000  20.365854  57.179487   \n",
       "4     10.910714   3.702703  88.842105       19.000000  21.783784  70.888889   \n",
       "...         ...        ...        ...             ...        ...        ...   \n",
       "999   19.256410   6.647059  81.857143       26.371429  29.055556  57.975000   \n",
       "1000  45.717949  10.289474  58.500000       23.085714  18.783784  27.243902   \n",
       "1001  60.200000  18.500000  13.351351       16.515152  24.378378  63.871795   \n",
       "1002  44.375000  11.685714  47.027027       22.230769  25.400000  56.852941   \n",
       "1003  35.285714   9.114286  68.631579       15.545455  10.657143   6.702703   \n",
       "\n",
       "          godly   outdoors  \n",
       "0     53.439024  83.925000  \n",
       "1     62.809524  57.513514  \n",
       "2     55.921053  11.292683  \n",
       "3     62.051282  16.560976  \n",
       "4     71.833333  20.777778  \n",
       "...         ...        ...  \n",
       "999   60.757576  14.923077  \n",
       "1000  68.800000  87.636364  \n",
       "1001  49.900000  12.914286  \n",
       "1002  63.435897  17.714286  \n",
       "1003  61.756098  88.525000  \n",
       "\n",
       "[1004 rows x 35 columns]"
      ]
     },
     "execution_count": 12,
     "metadata": {},
     "output_type": "execute_result"
    }
   ],
   "source": [
    "features_df[num_col] = features_df[num_col].astype('float')\n",
    "features_df[num_col]"
   ]
  },
  {
   "cell_type": "code",
   "execution_count": 13,
   "id": "3cfe1a09",
   "metadata": {},
   "outputs": [
    {
     "data": {
      "text/plain": [
       "stimulus          float64\n",
       "trustworthy       float64\n",
       "attractive        float64\n",
       "dominant          float64\n",
       "smart             float64\n",
       "age               float64\n",
       "gender            float64\n",
       "weight            float64\n",
       "typical           float64\n",
       "happy             float64\n",
       "familiar          float64\n",
       "outgoing          float64\n",
       "memorable         float64\n",
       "well-groomed      float64\n",
       "long-haired       float64\n",
       "smug              float64\n",
       "dorky             float64\n",
       "skin-color        float64\n",
       "hair-color        float64\n",
       "alert             float64\n",
       "cute              float64\n",
       "privileged        float64\n",
       "liberal           float64\n",
       "asian             float64\n",
       "middle-eastern    float64\n",
       "hispanic          float64\n",
       "islander          float64\n",
       "native            float64\n",
       "black             float64\n",
       "white             float64\n",
       "looks-like-you    float64\n",
       "gay               float64\n",
       "electable         float64\n",
       "godly             float64\n",
       "outdoors          float64\n",
       "dtype: object"
      ]
     },
     "execution_count": 13,
     "metadata": {},
     "output_type": "execute_result"
    }
   ],
   "source": [
    "# the following columns now all have the numerical data types\n",
    "features_df[num_col].dtypes"
   ]
  },
  {
   "cell_type": "markdown",
   "id": "6fd5a1c2",
   "metadata": {},
   "source": [
    "Since the actual weight data is my target data, I have to drop certain columns that are not needed to train the model : \"stimulus\" and \"weight\""
   ]
  },
  {
   "cell_type": "code",
   "execution_count": 14,
   "id": "606a19c0",
   "metadata": {},
   "outputs": [],
   "source": [
    "features_df = features_df.drop(['stimulus', 'weight'], axis = 1)\n"
   ]
  },
  {
   "cell_type": "code",
   "execution_count": 15,
   "id": "2279530e",
   "metadata": {},
   "outputs": [
    {
     "data": {
      "text/plain": [
       "(1004, 33)"
      ]
     },
     "execution_count": 15,
     "metadata": {},
     "output_type": "execute_result"
    }
   ],
   "source": [
    "# check the shape of dataframe after dropping\n",
    "features_df.shape"
   ]
  },
  {
   "cell_type": "markdown",
   "id": "1867dc2b",
   "metadata": {},
   "source": [
    "Since I only have 1004 rows in total, TA Yingzi suggested me not to drop outliers at this point. "
   ]
  },
  {
   "cell_type": "markdown",
   "id": "a11fb9c7",
   "metadata": {},
   "source": [
    "### Data transformation\n"
   ]
  },
  {
   "cell_type": "markdown",
   "id": "9e77d43e",
   "metadata": {},
   "source": [
    "#### Normalize numerical data"
   ]
  },
  {
   "cell_type": "code",
   "execution_count": 16,
   "id": "5aedfa4f",
   "metadata": {},
   "outputs": [],
   "source": [
    "# take \"trustworthy\" as test"
   ]
  },
  {
   "cell_type": "code",
   "execution_count": 17,
   "id": "fa3bc194",
   "metadata": {},
   "outputs": [
    {
     "data": {
      "text/plain": [
       "<Axes: xlabel='trustworthy', ylabel='Count'>"
      ]
     },
     "execution_count": 17,
     "metadata": {},
     "output_type": "execute_result"
    },
    {
     "data": {
      "image/png": "[encoded data removed]",
      "text/plain": [
       "<Figure size 640x480 with 1 Axes>"
      ]
     },
     "metadata": {},
     "output_type": "display_data"
    }
   ],
   "source": [
    "# check the distribution of the \"trustworthy\" (before normalization)\n",
    "sns.histplot(features_df['trustworthy'])"
   ]
  },
  {
   "cell_type": "code",
   "execution_count": 18,
   "id": "fe7a4fc0",
   "metadata": {},
   "outputs": [],
   "source": [
    "from sklearn.preprocessing import MinMaxScaler\n",
    "scaler = MinMaxScaler(feature_range=(0,1))\n",
    "features_df['trustworthy'] = scaler.fit_transform(features_df[['trustworthy']].values)"
   ]
  },
  {
   "cell_type": "code",
   "execution_count": 19,
   "id": "dc996291",
   "metadata": {},
   "outputs": [
    {
     "data": {
      "text/plain": [
       "<Axes: xlabel='trustworthy', ylabel='Count'>"
      ]
     },
     "execution_count": 19,
     "metadata": {},
     "output_type": "execute_result"
    },
    {
     "data": {
      "image/png": "[encoded data removed]",
      "text/plain": [
       "<Figure size 640x480 with 1 Axes>"
      ]
     },
     "metadata": {},
     "output_type": "display_data"
    }
   ],
   "source": [
    "# check the distribution of the \"trustworthy\" (after normalization)\n",
    "sns.histplot(features_df['trustworthy'])"
   ]
  },
  {
   "cell_type": "markdown",
   "id": "7a59472a",
   "metadata": {},
   "source": [
    "Create a for loop to do normalization for each column of the df\n"
   ]
  },
  {
   "cell_type": "code",
   "execution_count": 20,
   "id": "b3706d59",
   "metadata": {},
   "outputs": [],
   "source": [
    "# create the MinMaxScaler object\n",
    "scaler = MinMaxScaler()\n",
    "\n",
    "# loop through each column and scale\n",
    "for column in features_df.columns:\n",
    "    features_df[column] = scaler.fit_transform(features_df[[column]])"
   ]
  },
  {
   "cell_type": "markdown",
   "id": "b06c5a62",
   "metadata": {},
   "source": [
    "Check if the scaler successfully transformed other columns"
   ]
  },
  {
   "cell_type": "code",
   "execution_count": 21,
   "id": "d038d777",
   "metadata": {},
   "outputs": [
    {
     "data": {
      "text/plain": [
       "<Axes: xlabel='smart', ylabel='Count'>"
      ]
     },
     "execution_count": 21,
     "metadata": {},
     "output_type": "execute_result"
    },
    {
     "data": {
      "image/png": "[encoded data removed]",
      "text/plain": [
       "<Figure size 640x480 with 1 Axes>"
      ]
     },
     "metadata": {},
     "output_type": "display_data"
    }
   ],
   "source": [
    "# check the distribution of the \"smart\" (after normalization)\n",
    "sns.histplot(features_df['smart'])"
   ]
  },
  {
   "cell_type": "markdown",
   "id": "8c8ce60c",
   "metadata": {},
   "source": [
    "Normalize \"weight\" array"
   ]
  },
  {
   "cell_type": "code",
   "execution_count": 22,
   "id": "97863cfb",
   "metadata": {},
   "outputs": [],
   "source": [
    "normalized_weight = scaler.fit_transform(weight)"
   ]
  },
  {
   "cell_type": "markdown",
   "id": "494f4230",
   "metadata": {},
   "source": [
    "Check if the \"weight\" array has been normalized"
   ]
  },
  {
   "cell_type": "code",
   "execution_count": 23,
   "id": "55096b59",
   "metadata": {},
   "outputs": [
    {
     "data": {
      "text/plain": [
       "array([[0.20182256, 0.20726262, 0.1319596 , ..., 0.16731856, 0.20989499,\n",
       "        0.14459797],\n",
       "       [0.19269576, 0.27825448, 0.15925451, ..., 0.15610917, 0.19794826,\n",
       "        0.05780439],\n",
       "       [0.08581692, 0.29739654, 0.3698565 , ..., 0.49217122, 0.40496542,\n",
       "        0.45119262],\n",
       "       ...,\n",
       "       [0.17726204, 0.28200455, 0.20234621, ..., 0.18243802, 0.20285112,\n",
       "        0.23378063],\n",
       "       [0.28819738, 0.40481876, 0.15451776, ..., 0.20925424, 0.16573103,\n",
       "        0.16557124],\n",
       "       [0.18167743, 0.36206474, 0.1827293 , ..., 0.10646261, 0.17293774,\n",
       "        0.1022879 ]])"
      ]
     },
     "execution_count": 23,
     "metadata": {},
     "output_type": "execute_result"
    }
   ],
   "source": [
    "normalized_weight"
   ]
  },
  {
   "cell_type": "markdown",
   "id": "25568e8b",
   "metadata": {},
   "source": [
    "### Feature Engineering"
   ]
  },
  {
   "cell_type": "markdown",
   "id": "4aafb54b",
   "metadata": {},
   "source": [
    "#### Numerical data\n",
    "- directly use the values"
   ]
  },
  {
   "cell_type": "markdown",
   "id": "d434e5bf",
   "metadata": {},
   "source": [
    "### Additional Analysis (optional)"
   ]
  },
  {
   "cell_type": "code",
   "execution_count": 24,
   "id": "b2b92eae",
   "metadata": {},
   "outputs": [],
   "source": [
    "# reload the features dataframe to test for correlation\n",
    "features_df_cor = pd.read_csv('./attribute_means.csv') "
   ]
  },
  {
   "cell_type": "markdown",
   "id": "b8fb83a6",
   "metadata": {},
   "source": [
    "I want to calculate \"weight\" from the current features. Thus, I want to check which features in the originally data frame are most correlated with perceived weight feature. "
   ]
  },
  {
   "cell_type": "markdown",
   "id": "12bbafe4",
   "metadata": {},
   "source": [
    "Check the correlations among multiple columns to predict which features are potentially entail more importance in the model."
   ]
  },
  {
   "cell_type": "code",
   "execution_count": 25,
   "id": "4a0c8c7f",
   "metadata": {},
   "outputs": [
    {
     "data": {
      "image/png": "[encoded data removed]",
      "text/plain": [
       "<Figure size 800x800 with 2 Axes>"
      ]
     },
     "metadata": {},
     "output_type": "display_data"
    }
   ],
   "source": [
    "_, ax = plt.subplots(figsize=(8,8))\n",
    "columns = ['weight', 'trustworthy', 'attractive', 'dominant', 'smart', 'typical','outgoing','memorable']\n",
    "sns.heatmap(features_df_cor[columns].corr(),annot=True,cmap='RdYlGn', ax=ax);"
   ]
  },
  {
   "cell_type": "markdown",
   "id": "6eb92c53",
   "metadata": {},
   "source": [
    "According to the heat map:\n",
    "- perceived \"attractive\" has a moderate negative correlation with the weight feature.\n",
    "- perceived \"smart\" and \"trustworthy\" seems don't have vert strong correlation with the weight feature.\n",
    "\n",
    "\n"
   ]
  }
 ],
 "metadata": {
  "kernelspec": {
   "display_name": "Python 3",
   "language": "python",
   "name": "python3"
  },
  "language_info": {
   "codemirror_mode": {
    "name": "ipython",
    "version": 3
   },
   "file_extension": ".py",
   "mimetype": "text/x-python",
   "name": "python",
   "nbconvert_exporter": "python",
   "pygments_lexer": "ipython3",
   "version": "3.10.13"
  },
  "toc": {
   "base_numbering": 1,
   "nav_menu": {},
   "number_sections": true,
   "sideBar": true,
   "skip_h1_title": false,
   "title_cell": "Table of Contents",
   "title_sidebar": "Contents",
   "toc_cell": false,
   "toc_position": {
    "height": "calc(100% - 180px)",
    "left": "10px",
    "top": "150px",
    "width": "211.165px"
   },
   "toc_section_display": true,
   "toc_window_display": true
  }
 },
 "nbformat": 4,
 "nbformat_minor": 5
}
